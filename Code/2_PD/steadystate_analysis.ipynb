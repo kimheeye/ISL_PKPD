{
 "cells": [
  {
   "cell_type": "code",
   "execution_count": 1,
   "metadata": {},
   "outputs": [],
   "source": [
    "import numpy as np\n",
    "from scipy.integrate import solve_ivp\n",
    "import matplotlib.pyplot as plt"
   ]
  },
  {
   "cell_type": "code",
   "execution_count": 2,
   "metadata": {},
   "outputs": [],
   "source": [
    "#Viral dynamics parameters\n",
    "CL = 23\n",
    "lambdaT = 2e9\n",
    "deltaT = 0.02\n",
    "deltaT1 = 0.5\n",
    "deltaT2 = 1.4\n",
    "deltaPICT = 0.35\n",
    "kT = 0.35\n",
    "betaT0 = 8e-12\n",
    "NThat = 1000\n",
    "NT = 670  #NT = 0.67*NThat\n",
    "NTdiff = NThat-NT\n",
    "\n",
    "lambdaM = 6.9e7\n",
    "deltaM = 0.0069; deltaM1 = 0.0069\n",
    "deltaM2 = 0.09\n",
    "deltaPICM = 0.0035\n",
    "kM = 0.07\n",
    "betaM0 = 1e-13\n",
    "NMhat = 100\n",
    "NM = 67\n",
    "NMdiff = NMhat-NM"
   ]
  },
  {
   "cell_type": "code",
   "execution_count": 3,
   "metadata": {},
   "outputs": [],
   "source": [
    "#Estimated PK parameters\n",
    "hour = 24\n",
    "ka = 45.4382*hour\n",
    "k10 =  0.2355*hour\n",
    "k12 =  0.175*hour\n",
    "k21 =  0.0259*hour\n",
    "Vc =  162.690 #mL\n",
    "k13 = 44.2394*hour\n",
    "k30 = 0.00975*hour\n",
    "\n",
    "#To be optimized\n",
    "IC50 = 50\n",
    "m = 1 #fixed"
   ]
  },
  {
   "cell_type": "code",
   "execution_count": 7,
   "metadata": {},
   "outputs": [],
   "source": [
    "def ode_complex(t, z):\n",
    "    Tu = z[0]; T1 = z[1]; T2 = z[2]; V = z[3] #T-cells and free infectious viruses\n",
    "    Mu = z[4]; M1 = z[5]; M2 = z[6]; VN = z[7] #Macrophages and non-infectious viruses\n",
    "    Z0 = z[8]; Z1 = z[9]; Z2 = z[10]; Z3 = z[11] \n",
    "    #Viral dnymacics model\n",
    "    dTu = lambdaT - deltaT*Tu - betaT(Z3)*V*Tu + deltaPICT*T1\n",
    "    dMu = lambdaM - deltaM*Mu - betaM(Z3)*V*Mu + deltaPICM*M1\n",
    "    dT1 = betaT(Z3)*V*Tu - (deltaT1 + kT + deltaPICT)*T1\n",
    "    dM1 = betaM(Z3)*V*Mu - (deltaM1 + kM + deltaPICM)*M1\n",
    "    dT2 = kT*T1 - deltaT2*T2\n",
    "    dM2 = kM*M1 - deltaM2*M2 \n",
    "    dV = NM*M2 + NT*T2 - V*(CL + (betaT(Z3)+CLT(Z3))*Tu + (CLM(Z3) + betaM(Z3))*Mu)\n",
    "    dVN = (NTdiff*T2 + NMdiff*M2) - CL*VN\n",
    "    #Compartment model\n",
    "    dZ0 = -ka*Z0\n",
    "    dZ1 = (ka/Vc)*Z0 - k10*Z1 - k12*Z1 + k21*Z2\n",
    "    dZ2 = k12*Z1 - k21*Z2\n",
    "    dZ3 = k13*Z1 - k30*Z3\n",
    "    d = [dTu,dT1,dT2,dV,dMu,dM1,dM2,dVN,dZ0,dZ1,dZ2,dZ3]\n",
    "    return d\n",
    "\n",
    "def eta(D): \n",
    "    return D**m/(IC50**m + D**m)\n",
    "\n",
    "def betaT(t):\n",
    "    return betaT0*(1-eta(t))\n",
    "                \n",
    "def CLT(t):\n",
    "    return (1 + eta(t))*betaT0\n",
    "\n",
    "def betaM(t):\n",
    "    return betaM0*(1-eta(t))\n",
    "                \n",
    "def CLM(t):\n",
    "    return (1 + eta(t))*betaM0\n",
    "\n",
    "def solve_ode(z0, t_obs):\n",
    "    #solve ODE for a single data set\n",
    "    z = z0\n",
    "    res = solve_ivp(ode_complex, (tstart,tfinal), z, t_eval=t_obs)\n",
    "    return res"
   ]
  },
  {
   "cell_type": "code",
   "execution_count": 8,
   "metadata": {},
   "outputs": [
    {
     "data": {
      "image/png": "[encoded data removed]",
      "text/plain": [
       "<Figure size 432x288 with 1 Axes>"
      ]
     },
     "metadata": {
      "needs_background": "light"
     },
     "output_type": "display_data"
    },
    {
     "name": "stdout",
     "output_type": "stream",
     "text": [
      "Steady states\n",
      "Tu cells:  20521975484.695423\n",
      "T1 cells:  1871843034.3127716\n",
      "T2 cells:  467974209.5123621\n",
      "infectious Viruses:  13690540081.832031\n",
      "non-infectious Viruses:  6834284839.026645\n",
      "\n",
      "Mu cells:  6764846776.601595\n",
      "M1 cells:  111822300.88519625\n",
      "M2 cells:  84484727.48236099\n"
     ]
    }
   ],
   "source": [
    "#Global parameters  \n",
    "tstart = 0; tfinal = 200 #initial and final time points\n",
    "times = np.linspace(tstart, tfinal, num = 1000)\n",
    "\n",
    "dose = 0 #drug absence\n",
    "z0 = [lambdaT/deltaT,0,0,10,0,0,0,0,dose,0,0,0] #initial state of the system\n",
    "\n",
    "\n",
    "res = solve_ode(z0,times)\n",
    "#Steady states\n",
    "Tucells = res.y[0]\n",
    "T1cells = res.y[1]\n",
    "T2cells = res.y[2]\n",
    "Viruses = res.y[3]\n",
    "Mucells = res.y[4]\n",
    "M1cells = res.y[5]\n",
    "M2cells = res.y[6]\n",
    "VNIs = res.y[7]\n",
    "\n",
    "# plot result\n",
    "plt.plot(res.t, Tucells, 'c-')\n",
    "plt.plot(res.t, T1cells , 'b-')\n",
    "plt.plot(res.t, T2cells , 'r-')\n",
    "plt.plot(res.t, Viruses, 'g-')\n",
    "plt.plot(res.t, VNIs,'k-')\n",
    "plt.xlabel('time in days', fontsize=16)\n",
    "plt.ylabel('molecule diffusion in \\ncase of drug absence', fontsize=16)\n",
    "plt.plot()    \n",
    "plt.show()\n",
    "#print steady states\n",
    "print('Steady states')\n",
    "print('Tu cells: ', Tucells[-1:][0])\n",
    "print('T1 cells: ', T1cells[-1:][0])\n",
    "print('T2 cells: ', T2cells[-1:][0])\n",
    "print('infectious Viruses: ', Viruses[-1:][0])\n",
    "print('non-infectious Viruses: ', VNIs[-1:][0])\n",
    "print()\n",
    "print('Mu cells: ', Mucells[-1:][0])\n",
    "print('M1 cells: ', M1cells[-1:][0])\n",
    "print('M2 cells: ', M2cells[-1:][0])"
   ]
  },
  {
   "cell_type": "code",
   "execution_count": null,
   "metadata": {},
   "outputs": [],
   "source": []
  }
 ],
 "metadata": {
  "kernelspec": {
   "display_name": "Python 3",
   "language": "python",
   "name": "python3"
  },
  "language_info": {
   "codemirror_mode": {
    "name": "ipython",
    "version": 3
   },
   "file_extension": ".py",
   "mimetype": "text/x-python",
   "name": "python",
   "nbconvert_exporter": "python",
   "pygments_lexer": "ipython3",
   "version": "3.7.6"
  }
 },
 "nbformat": 4,
 "nbformat_minor": 2
}
