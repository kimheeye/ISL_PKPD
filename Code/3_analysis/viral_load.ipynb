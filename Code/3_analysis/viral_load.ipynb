{
 "cells": [
  {
   "cell_type": "code",
   "execution_count": 1,
   "metadata": {},
   "outputs": [],
   "source": [
    "import numpy as np\n",
    "import pandas as pd\n",
    "import matplotlib.pyplot as plt\n",
    "from scipy.integrate import solve_ivp\n",
    "from lmfit import minimize, Parameters, report_fit\n",
    "import random\n",
    "import itertools\n",
    "import time\n",
    "import math"
   ]
  },
  {
   "cell_type": "code",
   "execution_count": 2,
   "metadata": {},
   "outputs": [],
   "source": [
    "#Viral dynamics parameter\n",
    "CL = 23\n",
    "lambdaT = 2e9\n",
    "deltaT = 0.02\n",
    "deltaT1 = 0.5\n",
    "deltaT2 = 1.4\n",
    "deltaPICT = 0.35\n",
    "kT = 0.35\n",
    "betaT0 = 8e-12\n",
    "NThat = 1000\n",
    "NT = 670  #NT = 0.67*NThat\n",
    "NTdiff = NThat-NT\n",
    "\n",
    "lambdaM = 6.9e7\n",
    "deltaM = 0.0069; deltaM1 = 0.0069\n",
    "deltaM2 = 0.09\n",
    "deltaPICM = 0.0035\n",
    "kM = 0.07\n",
    "betaM0 = 1e-13\n",
    "NMhat = 100\n",
    "NM = 67\n",
    "NMdiff = NMhat-NM\n",
    "\n",
    "#Steady States\n",
    "Tu0 = 20521975484.695423\n",
    "T10 =  1871843034.3127716\n",
    "T20 =  467974209.5123621\n",
    "V0= 13690540081.832031\n",
    "VNI0=  6834284839.026645\n",
    "\n",
    "Mu0 =  6764846776.601595\n",
    "M10 =  111822300.88519625\n",
    "M20 =  84484727.48236099"
   ]
  },
  {
   "cell_type": "code",
   "execution_count": 3,
   "metadata": {},
   "outputs": [],
   "source": [
    "#PD parameters\n",
    "IC50 = 458 #estimated\n",
    "m = 1 #fixed\n",
    "\n",
    "#Estimated PK parameter\n",
    "hour = 24\n",
    "ka = 45.4382*hour\n",
    "k10 =  0.2355*hour\n",
    "k12 =  0.175*hour\n",
    "k21 =  0.0259*hour\n",
    "Vc =  162.690 #mL\n",
    "\n",
    "k13 = 44.2394*hour\n",
    "k30 = 0.00975*hour"
   ]
  },
  {
   "cell_type": "code",
   "execution_count": 4,
   "metadata": {},
   "outputs": [],
   "source": [
    "def eta(D):\n",
    "    return D**m/(IC50**m + D**m)\n",
    "    \n",
    "def betaT(D):\n",
    "    return betaT0*(1-eta(D))\n",
    "                \n",
    "def CLT(D):\n",
    "    return (1 + eta(D))*betaT0\n",
    "\n",
    "def betaM(D):\n",
    "    return betaM0*(1-eta(D))\n",
    "                \n",
    "def CLM(D):\n",
    "    return (1 + eta(D))*betaM0\n",
    " \n",
    "def ode_complex(t, z, params):\n",
    "    global IC50 \n",
    "    IC50 = params['IC50'].value #parameter to estimate\n",
    "    Tu = z[0]; T1 = z[1]; T2 = z[2]; V = z[3] #T-cells and free infectious viruses\n",
    "    Mu = z[4]; M1 = z[5]; M2 = z[6]; VN = z[7] #Macrophages and non-infectious viruses\n",
    "    Z0 = z[8]; Z1 = z[9]; Z2 = z[10]; Z3 = z[11] \n",
    "    #Viral dnymacics model\n",
    "    dTu = lambdaT - deltaT*Tu - betaT(Z3)*V*Tu + deltaPICT*T1\n",
    "    dMu = lambdaM - deltaM*Mu - betaM(Z3)*V*Mu + deltaPICM*M1\n",
    "    dT1 = betaT(Z3)*V*Tu - (deltaT1 + kT + deltaPICT)*T1\n",
    "    dM1 = betaM(Z3)*V*Mu - (deltaM1 + kM + deltaPICM)*M1\n",
    "    dT2 = kT*T1 - deltaT2*T2\n",
    "    dM2 = kM*M1 - deltaM2*M2 \n",
    "    dV = NM*M2 + NT*T2 - V*(CL + (betaT(Z3)+CLT(Z3))*Tu + (CLM(Z3) + betaM(Z3))*Mu)\n",
    "    dVN = (NTdiff*T2 + NMdiff*M2) - CL*VN\n",
    "    #Compartment model\n",
    "    dZ0 = -ka*Z0\n",
    "    dZ1 = (ka/Vc)*Z0 - k10*Z1 - k12*Z1 + k21*Z2\n",
    "    dZ2 = k12*Z1 - k21*Z2\n",
    "    dZ3 = k13*Z1 - k30*Z3\n",
    "    d = [dTu,dT1,dT2,dV,dMu,dM1,dM2,dVN,dZ0,dZ1,dZ2,dZ3]\n",
    "    return d\n",
    "\n",
    "def solve_ode_simple(z0, t_obs, params): #calculate viral load for a single data set\n",
    "    deltaCV=[]\n",
    "    res = solve_ivp(ode_complex, (tstart,tfinal), z0, t_eval=t_obs, args=(params,))\n",
    "    V_total = res.y[3]+res.y[7]\n",
    "    deltaCV.append(np.log10(V_total/V_total[0])) #total number divided by initial number of viruses\n",
    "    return list(itertools.chain.from_iterable(deltaCV))"
   ]
  },
  {
   "cell_type": "code",
   "execution_count": 5,
   "metadata": {
    "scrolled": true
   },
   "outputs": [
    {
     "data": {
      "image/png": "[encoded data removed]",
      "text/plain": [
       "<Figure size 432x288 with 1 Axes>"
      ]
     },
     "metadata": {
      "needs_background": "light"
     },
     "output_type": "display_data"
    }
   ],
   "source": [
    "#plot result\n",
    "dose = [0.5,1,2]\n",
    "\n",
    "x0 = []\n",
    "for i in range(len(dose)):\n",
    "    x0.append([Tu0, T10, T20, V0, Mu0, M10, M20, VNI0, dose[i]*3410, 0, 0, 0])\n",
    "\n",
    "tstart = 0; tfinal=15\n",
    "\n",
    "parameters = Parameters()\n",
    "parameters.add('IC50', value= IC50, vary = False)\n",
    "\n",
    "l = ['05mg', '1mg', '2mg']\n",
    "c = ['ro-', 'go-', 'bo-']\n",
    "\n",
    "for i in range(len(dose)):\n",
    "    res = solve_ode_simple(x0[i], range(tfinal), parameters)\n",
    "    plt.plot(range(tfinal), res, c[i], label=l[i])\n",
    "    plt.plot(range(tfinal), [-1]*len(range(tfinal)), 'k--')\n",
    "    plt.legend()\n",
    "\n",
    "plt.xticks(range(1,tfinal,1))\n",
    "plt.xlabel('time (days)', fontsize=14)\n",
    "plt.ylabel('Log10 viral load decay [copies/mL]', fontsize=14)\n",
    "plt.show()"
   ]
  }
 ],
 "metadata": {
  "kernelspec": {
   "display_name": "Python 3",
   "language": "python",
   "name": "python3"
  },
  "language_info": {
   "codemirror_mode": {
    "name": "ipython",
    "version": 3
   },
   "file_extension": ".py",
   "mimetype": "text/x-python",
   "name": "python",
   "nbconvert_exporter": "python",
   "pygments_lexer": "ipython3",
   "version": "3.6.9"
  }
 },
 "nbformat": 4,
 "nbformat_minor": 2
}
