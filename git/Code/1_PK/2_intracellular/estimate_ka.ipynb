{
 "cells": [
  {
   "cell_type": "code",
   "execution_count": 1,
   "metadata": {},
   "outputs": [],
   "source": [
    "import numpy as np\n",
    "import pandas as pd\n",
    "from scipy.integrate import solve_ivp\n",
    "from lmfit import minimize, Parameters, report_fit\n",
    "import warnings\n",
    "import matplotlib.pyplot as plt\n",
    "import scipy.optimize\n",
    "from intersect import intersection"
   ]
  },
  {
   "cell_type": "code",
   "execution_count": 5,
   "metadata": {},
   "outputs": [],
   "source": [
    "#Load and prepare data\n",
    "path_tp = '../../../Data/'\n",
    "dataTP_05mg = pd.read_csv(path_tp + 'Matthews2017/Digitized/PK/05mg_TP.csv')\n",
    "dataTP_10mg_ = pd.read_csv(path_tp + 'Matthews2017/Digitized/PK/10mg_TP.csv')\n",
    "dataTP_10mg_w1 = pd.read_csv(path_tp + 'Grobler2016/Digitized/PK/10mg_TP_W1.csv')\n",
    "dataTP_10mg_w3 = pd.read_csv(path_tp + 'Grobler2016/Digitized/PK/10mg_TP_W3.csv')\n",
    "dataTP_30mg_ = pd.read_csv(path_tp + 'Matthews2017/Digitized/PK/30mg_TP.csv')\n",
    "dataTP_30mg_w1 = pd.read_csv(path_tp + 'Grobler2016/Digitized/PK/30mg_TP_W1.csv')\n",
    "dataTP_30mg_w3 = pd.read_csv(path_tp + 'Grobler2016/Digitized/PK/30mg_TP_W3.csv')\n",
    "dataTP_100mg_w1 = pd.read_csv(path_tp + 'Grobler2016/Digitized/PK/100mg_TP_W1.csv')\n",
    "dataTP_100mg_w3 = pd.read_csv(path_tp + 'Grobler2016/Digitized/PK/100mg_TP_W3.csv')\n",
    "dataTP_1mg = pd.read_csv(path_tp + 'Matthews2017/Digitized/PK/1mg_TP.csv')\n",
    "dataTP_2mg = pd.read_csv(path_tp + 'Matthews2017/Digitized/PK/2mg_TP.csv')\n",
    "\n",
    "dataTP_05mg = dataTP_05mg.dropna(axis='columns')\n",
    "dataTP_1mg = dataTP_1mg.dropna(axis='columns')\n",
    "dataTP_2mg = dataTP_2mg.dropna(axis='columns')\n",
    "dataTP_10mg_ = dataTP_10mg_.dropna(axis='columns')\n",
    "dataTP_10mg_w1 = dataTP_10mg_w1.dropna(axis='columns')\n",
    "dataTP_10mg_w3 = dataTP_10mg_w3.dropna(axis='columns')\n",
    "dataTP_30mg_ = dataTP_30mg_.dropna(axis='columns')\n",
    "dataTP_30mg_w1 = dataTP_30mg_w1.dropna(axis='columns')\n",
    "dataTP_30mg_w3 = dataTP_30mg_w3.dropna(axis='columns')\n",
    "dataTP_100mg_w1 = dataTP_100mg_w1.dropna(axis='columns')\n",
    "dataTP_100mg_w3 = dataTP_100mg_w3.dropna(axis='columns')\n",
    "\n",
    "dataTP_05mg.columns = ['time','conc']\n",
    "dataTP_1mg.columns = ['time','conc']\n",
    "dataTP_2mg.columns = ['time','conc']\n",
    "dataTP_10mg_.columns = ['time','conc']\n",
    "dataTP_10mg_w1.columns = ['time','conc']\n",
    "dataTP_10mg_w3.columns = ['time','conc']\n",
    "dataTP_30mg_.columns = ['time','conc']\n",
    "dataTP_30mg_w1.columns = ['time','conc']\n",
    "dataTP_30mg_w3.columns = ['time','conc']\n",
    "dataTP_100mg_w1.columns = ['time','conc']\n",
    "dataTP_100mg_w3.columns = ['time','conc']\n",
    "\n",
    "dataTP_10mg = pd.concat([dataTP_10mg_, dataTP_10mg_w1, dataTP_10mg_w3]).sort_values(by=['time']).reset_index(drop=True)\n",
    "dataTP_30mg = pd.concat([dataTP_30mg_, dataTP_30mg_w1, dataTP_30mg_w3]).sort_values(by=['time']).reset_index(drop=True)\n",
    "dataTP_100mg = pd.concat([dataTP_100mg_w1, dataTP_100mg_w3]).sort_values(by=['time']).reset_index(drop=True)\n",
    "\n",
    "dataTP_10mg.time.iloc[0] = abs(dataTP_10mg.time.iloc[0])\n",
    "\n",
    "datalist_TP = [dataTP_10mg, dataTP_30mg, dataTP_100mg, dataTP_2mg, dataTP_1mg, dataTP_05mg]\n",
    "data_TP = pd.concat([dataTP_10mg, dataTP_30mg, dataTP_100mg, dataTP_2mg, dataTP_1mg, dataTP_05mg]) #assembled data\n",
    "\n",
    "#convert to unit nM\n",
    "data_TP.conc = 6 - np.log10(180) + data_TP.conc.tolist()\n",
    "for n in range(len(datalist_TP)): #to nM    \n",
    "    datalist_TP[n].conc = 6 - np.log10(180) + datalist_TP[n].conc.tolist()\n",
    "\n",
    "t_observed_TP = []; x_observed_TP = []\n",
    "for d in range(len(datalist_TP)):\n",
    "    t_observed_TP.append(datalist_TP[d].time.tolist())\n",
    "    x_observed_TP.append(datalist_TP[d].conc.tolist())\n",
    "t_observed_TP[0][0] = 0.2"
   ]
  },
  {
   "cell_type": "code",
   "execution_count": 6,
   "metadata": {},
   "outputs": [],
   "source": [
    "#Compartment model linear PK\n",
    "def model_TP_linear(t, z, params):\n",
    "    #parameters to estimate\n",
    "    ka = params['ka'].value\n",
    "    k13 = params['k13'].value\n",
    "    Z0 = z[0]; Z1 = z[1]; Z2 = z[2]; Z3 = z[3]\n",
    "    dZ0 = -ka*Z0\n",
    "    dZ1 = (ka/Vc)*Z0 - k10*Z1 - k12*Z1 + k21*Z2\n",
    "    dZ2 = k12*Z1 - k21*Z2\n",
    "    dZ3 = k13*Z1 - k30*Z3\n",
    "    d = [dZ0,dZ1,dZ2,dZ3]\n",
    "    return d\n",
    "\n",
    "def solve_ode_TP(z0, params):\n",
    "    logZ3 = [] #store intracellular concentration\n",
    "    for j in range(len(z0)):\n",
    "        t_obs = t_observed_TP[j]\n",
    "        res = solve_ivp(model_TP_linear, (tstart,tfinal[j]), z0[j], t_eval=t_obs,args=(params,))\n",
    "        for i in range(len(res.y[3])):\n",
    "            if res.y[3][i] > 0: logZ3.append(np.log10(res.y[3][i])) #filter negative values\n",
    "            else: logZ3.append(-10)\n",
    "    return logZ3\n",
    "\n",
    "def residual_TP(params, z0, data_mat):\n",
    "    logZ3 = solve_ode_TP(z0, params)\n",
    "    return np.power(np.subtract(logZ3,data_TP.conc.tolist()),2)"
   ]
  },
  {
   "cell_type": "code",
   "execution_count": 18,
   "metadata": {},
   "outputs": [],
   "source": [
    "dose = 3410 #nM\n",
    "#initial and final time\n",
    "tstart = 0\n",
    "tfinal = []\n",
    "for i in range(len(datalist_TP)):\n",
    "    tfinal.append(t_observed_TP[i][-1])\n",
    "#initial satte of the system    \n",
    "z0 = [[10*dose,0,0,0],[30*dose,0,0,0], [100*dose,0,0,0],[2*dose,0,0,0],[dose,0,0,0],[0.5*dose,0,0,0]] \n",
    "\n",
    "#Estimated PK parameters\n",
    "k10 =  0.2355\n",
    "k12 =  0.1750\n",
    "k21 =  0.0259\n",
    "Vc =  162.6864\n",
    "k30 = 0.0098"
   ]
  },
  {
   "cell_type": "code",
   "execution_count": 30,
   "metadata": {},
   "outputs": [],
   "source": [
    "count = 0; maxcount = 10 #initial and maximal number of iterations\n",
    "RSSList = []\n",
    "k13List = np.arange(50,35,-(15/100))\n",
    "kaList= np.arange(30,70,(40/100))\n",
    "\n",
    "for i in range(len(kaList)):\n",
    "    #sample ka and k13\n",
    "    va = kaList[i]\n",
    "    v13 = k13List[i]\n",
    "    parameters = Parameters()\n",
    "    parameters.add('ka', value=va, vary=False)\n",
    "    parameters.add('k13',value=v13, vary=False)\n",
    "    #solve ODE for intracellular conc.\n",
    "    log_Z3 = res = solve_ode_TP(z0, parameters)\n",
    "    rss = np.sum(np.power(np.subtract(data_TP.conc.tolist(),log_Z3),2))\n",
    "    RSSList.append(rss)"
   ]
  },
  {
   "cell_type": "code",
   "execution_count": 63,
   "metadata": {},
   "outputs": [
    {
     "data": {
      "image/png": "[encoded data removed]",
      "text/plain": [
       "<Figure size 432x288 with 1 Axes>"
      ]
     },
     "metadata": {
      "needs_background": "light"
     },
     "output_type": "display_data"
    }
   ],
   "source": [
    "#plot result\n",
    "x, y = intersection(kaList, RSSList, k13List, RSSList) #calculate intersection between ka and k10 w.r.t. RSS\n",
    "plt.plot(k13List,RSSList,'r-',label = 'k13')\n",
    "plt.plot(kaList,RSSList,'g-',label = 'ka')\n",
    "plt.plot(x[0],y[0],'ko',label='intersect. '+str(round(x[0],2)))\n",
    "plt.xlabel('parameters')\n",
    "plt.ylabel('RSS')\n",
    "plt.legend(loc='best')\n",
    "#plt.title('ka vs. k13')\n",
    "plt.show() "
   ]
  }
 ],
 "metadata": {
  "kernelspec": {
   "display_name": "Python 3",
   "language": "python",
   "name": "python3"
  },
  "language_info": {
   "codemirror_mode": {
    "name": "ipython",
    "version": 3
   },
   "file_extension": ".py",
   "mimetype": "text/x-python",
   "name": "python",
   "nbconvert_exporter": "python",
   "pygments_lexer": "ipython3",
   "version": "3.6.9"
  }
 },
 "nbformat": 4,
 "nbformat_minor": 2
}
